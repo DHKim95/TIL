{
 "cells": [
  {
   "cell_type": "code",
   "execution_count": 2,
   "id": "05bbf3ad",
   "metadata": {},
   "outputs": [
    {
     "name": "stdout",
     "output_type": "stream",
     "text": [
      "madam\n",
      "madam\n",
      "입력하신 단어는 회문(Palindrome)입니다.\n"
     ]
    }
   ],
   "source": [
    "# SWEA 6232\n",
    "word = input()\n",
    "reverse_word = word[::-1]\n",
    "\n",
    "\n",
    "if word == reverse_word:\n",
    "    print(reverse_word[::-1])\n",
    "    print(\"입력하신 단어는 회문(Palindrome)입니다.\")"
   ]
  },
  {
   "cell_type": "code",
   "execution_count": 13,
   "id": "65c63c87",
   "metadata": {},
   "outputs": [
    {
     "name": "stdout",
     "output_type": "stream",
     "text": [
      "A better tomorrow\n",
      "tomorrow better A\n"
     ]
    }
   ],
   "source": [
    "word = list(map(str, input().split(' ')))\n",
    "reverse_word = word[::-1]\n",
    "for i in reverse_word[:-1]:\n",
    "    print(i, end=' ')\n",
    "print(reverse_word[-1])"
   ]
  },
  {
   "cell_type": "code",
   "execution_count": 19,
   "id": "edee0d3d",
   "metadata": {},
   "outputs": [
    {
     "name": "stdout",
     "output_type": "stream",
     "text": [
      "http://www.example.com/test?p=1&q=2\n",
      "protocol: http\n",
      "host: www.example.com\n",
      "others: test?p=1&q=2\n"
     ]
    }
   ],
   "source": [
    "site = input()\n",
    "\n",
    "protocol = site[:4]\n",
    "host = site[7:22]\n",
    "other = site[23:]\n",
    "print(f\"protocol: {protocol}\")\n",
    "print(f\"host: {host}\")\n",
    "print(f\"others: {other}\")"
   ]
  },
  {
   "cell_type": "code",
   "execution_count": 23,
   "id": "d7e897e9",
   "metadata": {},
   "outputs": [
    {
     "name": "stdout",
     "output_type": "stream",
     "text": [
      "Hello World\n",
      ">> HELLO WORLD\n",
      "Hello World\n",
      ">> HELLO WORLD\n",
      "Python\n",
      ">> PYTHON\n",
      "\n"
     ]
    }
   ],
   "source": [
    "while True:\n",
    "    try:\n",
    "        print(\">> {}\".format(input().upper()))\n",
    "    except EOFError:\n",
    "        break"
   ]
  },
  {
   "cell_type": "code",
   "execution_count": 4,
   "id": "2f8fe385",
   "metadata": {},
   "outputs": [
    {
     "name": "stdout",
     "output_type": "stream",
     "text": [
      "산 하늘 강 바다 하늘 강 들\n",
      "강,들,바다,산,하늘\n"
     ]
    }
   ],
   "source": [
    "word = list(map(str, input().split(' ')))\n",
    "sort_word = sorted(list(set(word)))\n",
    "print(','.join(sort_word))"
   ]
  },
  {
   "cell_type": "code",
   "execution_count": 9,
   "id": "9b99b7c7",
   "metadata": {},
   "outputs": [
    {
     "name": "stdout",
     "output_type": "stream",
     "text": [
      "H1e2l3l4o5w6o7r8l9d\n",
      "Helloworld\n"
     ]
    }
   ],
   "source": [
    "words = list(input())\n",
    "answer = \"\"\n",
    "for i in range(len(words)):\n",
    "    if i % 2 == 0:\n",
    "        answer += words[i]\n",
    "        \n",
    "print(answer)"
   ]
  },
  {
   "cell_type": "code",
   "execution_count": null,
   "id": "8e033b07",
   "metadata": {},
   "outputs": [],
   "source": []
  },
  {
   "cell_type": "code",
   "execution_count": null,
   "id": "2b11163a",
   "metadata": {},
   "outputs": [],
   "source": []
  },
  {
   "cell_type": "code",
   "execution_count": null,
   "id": "d41449ce",
   "metadata": {},
   "outputs": [],
   "source": []
  },
  {
   "cell_type": "code",
   "execution_count": null,
   "id": "55d99b39",
   "metadata": {},
   "outputs": [],
   "source": []
  },
  {
   "cell_type": "code",
   "execution_count": null,
   "id": "4cd29ce0",
   "metadata": {},
   "outputs": [],
   "source": []
  },
  {
   "cell_type": "code",
   "execution_count": null,
   "id": "b55560c4",
   "metadata": {},
   "outputs": [],
   "source": []
  },
  {
   "cell_type": "code",
   "execution_count": null,
   "id": "34cb8471",
   "metadata": {},
   "outputs": [],
   "source": []
  },
  {
   "cell_type": "code",
   "execution_count": null,
   "id": "aa1fce16",
   "metadata": {},
   "outputs": [],
   "source": []
  },
  {
   "cell_type": "code",
   "execution_count": null,
   "id": "0a3a71f4",
   "metadata": {},
   "outputs": [],
   "source": []
  },
  {
   "cell_type": "code",
   "execution_count": null,
   "id": "e44ad960",
   "metadata": {},
   "outputs": [],
   "source": []
  },
  {
   "cell_type": "code",
   "execution_count": null,
   "id": "b269364c",
   "metadata": {},
   "outputs": [],
   "source": []
  }
 ],
 "metadata": {
  "kernelspec": {
   "display_name": "Python 3 (ipykernel)",
   "language": "python",
   "name": "python3"
  },
  "language_info": {
   "codemirror_mode": {
    "name": "ipython",
    "version": 3
   },
   "file_extension": ".py",
   "mimetype": "text/x-python",
   "name": "python",
   "nbconvert_exporter": "python",
   "pygments_lexer": "ipython3",
   "version": "3.9.6"
  },
  "toc": {
   "base_numbering": 1,
   "nav_menu": {},
   "number_sections": true,
   "sideBar": true,
   "skip_h1_title": false,
   "title_cell": "Table of Contents",
   "title_sidebar": "Contents",
   "toc_cell": false,
   "toc_position": {},
   "toc_section_display": true,
   "toc_window_display": false
  }
 },
 "nbformat": 4,
 "nbformat_minor": 5
}
